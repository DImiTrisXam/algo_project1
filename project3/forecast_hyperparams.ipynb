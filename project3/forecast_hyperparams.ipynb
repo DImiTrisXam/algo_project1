{
 "cells": [
  {
   "cell_type": "code",
   "execution_count": null,
   "metadata": {},
   "outputs": [],
   "source": [
    "from sklearn.preprocessing import MinMaxScaler\n",
    "import numpy as np\n",
    "import pandas as pd\n",
    "import keras\n",
    "import matplotlib.pyplot as plt\n",
    "import math\n",
    "from functions import split_dataset_LSTM, printHyperparams\n",
    "%matplotlib inline"
   ]
  },
  {
   "cell_type": "code",
   "execution_count": null,
   "metadata": {},
   "outputs": [],
   "source": [
    "df = pd.read_csv(\"datasets/nasdaq2007_17.csv\", header=None, sep='\\t')\n",
    "print(\"Number of rows and columns:\", df.shape)\n",
    "# df.head(5)\n",
    "\n",
    "time_array = np.array([x for x in range(len(df.columns))])\n",
    "df2 = pd.DataFrame(time_array)\n",
    "\n",
    "N = 1  # number of time series from dataset\n",
    "training_percent = 0.8\n",
    "look_back = 60\n",
    "sc = MinMaxScaler(feature_range=(0, 1))\n",
    "\n",
    "# hyperparameters: layers, units, epochs, batch size\n",
    "hyperparams = []\n",
    "hyperparams.append([4, 50, 10, 1])\n",
    "hyperparams.append([4, 50, 10, 16])\n",
    "hyperparams.append([4, 50, 10, 32])\n",
    "hyperparams.append([4, 50, 10, 64])\n",
    "hyperparams.append([4, 50, 10, 128])\n",
    "\n",
    "f = open(\"./hyperparams/forecast_table.csv\", \"w\")\n",
    "# write headers\n",
    "f.write(\"layers\\tunits\\tepochs\\tbatch_size\\tloss\\tval_loss\\n\")\n",
    "# close file\n",
    "f.close()"
   ]
  },
  {
   "cell_type": "code",
   "execution_count": null,
   "metadata": {},
   "outputs": [],
   "source": [
    "for hp in hyperparams:\n",
    "    # Creating a data structure with 'look_back' time-steps and 1 output\n",
    "    X_train, y_train, X_test, train_size = split_dataset_LSTM(\n",
    "        df, 0, training_percent, sc, look_back)\n",
    "\n",
    "    model = printHyperparams(X_train, y_train, hp[0], hp[1], hp[2], hp[3])\n",
    "\n",
    "    # Getting the predicted stock price (trained with 1 timeseries)\n",
    "    predicted_stock_price = model.predict(X_test)\n",
    "    predicted_stock_price = sc.inverse_transform(predicted_stock_price)\n",
    "\n",
    "    plt.figure(figsize=(14, 7))\n",
    "    plt.plot(df2.iloc[train_size:].values, df.iloc[0, train_size:].values,\n",
    "             color='red', label='Real Stock Price')\n",
    "    plt.plot(df2.iloc[train_size:].values, predicted_stock_price,\n",
    "             color='blue', label='Predicted Stock Price')\n",
    "    plt.title('Stock Price Prediction')\n",
    "    plt.xlabel('Time')\n",
    "    plt.ylabel('Stock Price')\n",
    "    plt.legend()\n",
    "    plt.show()"
   ]
  }
 ],
 "metadata": {
  "interpreter": {
   "hash": "5f292722d6d50c2426abae6fd15a85386b49c5393ec98f1c35f79e4e4dd7448b"
  },
  "kernelspec": {
   "display_name": "Python 3.8.8 64-bit ('base': conda)",
   "language": "python",
   "name": "python3"
  },
  "language_info": {
   "codemirror_mode": {
    "name": "ipython",
    "version": 3
   },
   "file_extension": ".py",
   "mimetype": "text/x-python",
   "name": "python",
   "nbconvert_exporter": "python",
   "pygments_lexer": "ipython3",
   "version": "3.8.8"
  },
  "orig_nbformat": 4
 },
 "nbformat": 4,
 "nbformat_minor": 2
}
