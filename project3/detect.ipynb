{
  "cells": [
    {
      "cell_type": "code",
      "execution_count": null,
      "metadata": {
        "colab": {},
        "colab_type": "code",
        "id": "PbVkw3i7mg0Z"
      },
      "outputs": [],
      "source": [
        "import numpy as np\n",
        "import tensorflow as tf\n",
        "from tensorflow import keras\n",
        "import pandas as pd\n",
        "import seaborn as sns\n",
        "from pylab import rcParams\n",
        "import matplotlib.pyplot as plt\n",
        "from matplotlib import rc\n",
        "from pandas.plotting import register_matplotlib_converters\n",
        "from sklearn.preprocessing import StandardScaler\n",
        "# from functions import create_dataset\n",
        "\n",
        "%matplotlib inline\n",
        "%config InlineBackend.figure_format = 'retina'\n",
        "\n",
        "register_matplotlib_converters()\n",
        "sns.set(style='whitegrid', palette='muted', font_scale=1.5)\n",
        "\n",
        "rcParams['figure.figsize'] = 22, 10\n",
        "\n",
        "RANDOM_SEED = 42\n",
        "\n",
        "np.random.seed(RANDOM_SEED)\n",
        "tf.random.set_seed(RANDOM_SEED)\n"
      ]
    },
    {
      "cell_type": "code",
      "execution_count": null,
      "metadata": {
        "colab": {},
        "colab_type": "code",
        "id": "dhcfLdSHm6p-"
      },
      "outputs": [],
      "source": [
        "df = pd.read_csv(\"datasets/nasd_input.csv\", header=None, sep='\\t')\n",
        "# df.head()"
      ]
    },
    {
      "cell_type": "code",
      "execution_count": null,
      "metadata": {
        "colab": {
          "base_uri": "https://localhost:8080/",
          "height": 34
        },
        "colab_type": "code",
        "id": "9Cz4C73TxG_Y",
        "outputId": "d00a468f-f053-4e4b-d8df-57f16c7bd778"
      },
      "outputs": [],
      "source": [
        "train_size = int(len(df.columns) * 0.95)\n",
        "test_size = len(df.columns) - train_size\n",
        "train, test = df.iloc[0, 1:train_size].values.reshape(-1, 1), df.iloc[0, train_size:len(df.columns)].values.reshape(-1, 1)\n",
        "print(train.shape, test.shape)"
      ]
    },
    {
      "cell_type": "code",
      "execution_count": null,
      "metadata": {
        "colab": {
          "base_uri": "https://localhost:8080/",
          "height": 221
        },
        "colab_type": "code",
        "id": "hkxx7ETZ8oF8",
        "outputId": "436a7c87-f87e-4adc-e48c-a720dcf78024"
      },
      "outputs": [],
      "source": [
        "scaler = StandardScaler()\n",
        "scaler = scaler.fit(train)\n",
        "\n",
        "train_scaled = scaler.transform(train)\n",
        "test_scaled = scaler.transform(test)"
      ]
    },
    {
      "cell_type": "code",
      "execution_count": null,
      "metadata": {
        "colab": {},
        "colab_type": "code",
        "id": "rp89-jBZpskM"
      },
      "outputs": [],
      "source": [
        "def create_dataset(X, y, time_steps=1):\n",
        "    Xs, ys = [], []\n",
        "    for i in range(len(X) - time_steps):\n",
        "        v = X[i:(i + time_steps)]\n",
        "        Xs.append(v)        \n",
        "        ys.append(y[i + time_steps])\n",
        "    return np.array(Xs).astype('float32'), np.array(ys).astype('float32')"
      ]
    },
    {
      "cell_type": "code",
      "execution_count": null,
      "metadata": {
        "colab": {
          "base_uri": "https://localhost:8080/",
          "height": 34
        },
        "colab_type": "code",
        "id": "UFpUz7OFps8J",
        "outputId": "f318ad0d-dd2f-4dce-eecb-1f3798341033"
      },
      "outputs": [],
      "source": [
        "TIME_STEPS = 30\n",
        "\n",
        "# reshape to [samples, time_steps, n_features]\n",
        "\n",
        "X_train, y_train = create_dataset(train_scaled, train, TIME_STEPS)\n",
        "X_test, y_test = create_dataset(test_scaled, test, TIME_STEPS)\n",
        "\n",
        "print(X_train.shape)"
      ]
    },
    {
      "cell_type": "code",
      "execution_count": null,
      "metadata": {
        "colab": {},
        "colab_type": "code",
        "id": "da55zoY1qSQ0"
      },
      "outputs": [],
      "source": [
        "model = keras.Sequential()\n",
        "model.add(keras.layers.LSTM(\n",
        "    units=64, \n",
        "    input_shape=(X_train.shape[1], X_train.shape[2])\n",
        "))\n",
        "model.add(keras.layers.Dropout(rate=0.2))\n",
        "model.add(keras.layers.RepeatVector(n=X_train.shape[1]))\n",
        "model.add(keras.layers.LSTM(units=64, return_sequences=True))\n",
        "model.add(keras.layers.Dropout(rate=0.2))\n",
        "model.add(keras.layers.TimeDistributed(keras.layers.Dense(units=X_train.shape[2])))\n",
        "model.compile(loss='mae', optimizer='adam')"
      ]
    },
    {
      "cell_type": "code",
      "execution_count": null,
      "metadata": {
        "colab": {
          "base_uri": "https://localhost:8080/",
          "height": 374
        },
        "colab_type": "code",
        "id": "HhUPMxZtrFTS",
        "outputId": "ea372368-8798-49a3-a4d8-d168e110a39b"
      },
      "outputs": [],
      "source": [
        "history = model.fit(\n",
        "    X_train, y_train,\n",
        "    epochs=10,\n",
        "    batch_size=32,\n",
        "    validation_split=0.1,\n",
        "    shuffle=False\n",
        ")"
      ]
    },
    {
      "cell_type": "code",
      "execution_count": null,
      "metadata": {
        "colab": {
          "base_uri": "https://localhost:8080/",
          "height": 601
        },
        "colab_type": "code",
        "id": "2GYE03C1TUv0",
        "outputId": "57ebc044-51c5-4c6d-8cb3-f981f21f2b64"
      },
      "outputs": [],
      "source": [
        "plt.plot(history.history['loss'], label='train')\n",
        "plt.plot(history.history['val_loss'], label='test')\n",
        "plt.legend();"
      ]
    },
    {
      "cell_type": "code",
      "execution_count": null,
      "metadata": {
        "colab": {},
        "colab_type": "code",
        "id": "DgOzzuc_xq8i"
      },
      "outputs": [],
      "source": [
        "X_train_pred = model.predict(X_train)\n",
        "\n",
        "train_mae_loss = np.mean(np.abs(X_train_pred - X_train), axis=1)"
      ]
    },
    {
      "cell_type": "code",
      "execution_count": null,
      "metadata": {
        "colab": {
          "base_uri": "https://localhost:8080/",
          "height": 601
        },
        "colab_type": "code",
        "id": "coepllErx5Il",
        "outputId": "3925ec3a-7009-46c3-b9aa-849614ec305a"
      },
      "outputs": [],
      "source": [
        "sns.distplot(train_mae_loss, bins=50, kde=True);"
      ]
    },
    {
      "cell_type": "code",
      "execution_count": null,
      "metadata": {
        "colab": {},
        "colab_type": "code",
        "id": "G0IRFw03cP2V"
      },
      "outputs": [],
      "source": [
        "X_test_pred = model.predict(X_test)\n",
        "\n",
        "test_mae_loss = np.mean(np.abs(X_test_pred - X_test), axis=1)"
      ]
    },
    {
      "cell_type": "code",
      "execution_count": null,
      "metadata": {
        "colab": {},
        "colab_type": "code",
        "id": "U-87Uma2uEg6"
      },
      "outputs": [],
      "source": [
        "THRESHOLD = 0.65\n",
        "\n",
        "time_array = np.array([x for x in range(len(df.columns))])\n",
        "df2 = pd.DataFrame(time_array)\n",
        "\n",
        "test_score_df = pd.DataFrame(index=test[TIME_STEPS:].index)\n",
        "test_score_df['loss'] = test_mae_loss\n",
        "test_score_df['threshold'] = THRESHOLD\n",
        "test_score_df['anomaly'] = test_score_df.loss > test_score_df.threshold\n",
        "test_score_df['close'] = test[TIME_STEPS:].close"
      ]
    },
    {
      "cell_type": "code",
      "execution_count": null,
      "metadata": {
        "colab": {
          "base_uri": "https://localhost:8080/",
          "height": 628
        },
        "colab_type": "code",
        "id": "qWiYvGmkv_Pb",
        "outputId": "36069204-18f5-4a83-de4c-6f9a162ad6a9"
      },
      "outputs": [],
      "source": [
        "plt.plot(test_score_df.index, test_score_df.loss, label='loss')\n",
        "plt.plot(test_score_df.index, test_score_df.threshold, label='threshold')\n",
        "plt.xticks(rotation=25)\n",
        "plt.legend();"
      ]
    },
    {
      "cell_type": "code",
      "execution_count": null,
      "metadata": {
        "colab": {
          "base_uri": "https://localhost:8080/",
          "height": 235
        },
        "colab_type": "code",
        "id": "EkVxvoAt0Egc",
        "outputId": "3acf3c68-e4e1-425d-ee32-8babcdcf07e2"
      },
      "outputs": [],
      "source": [
        "anomalies = test_score_df[test_score_df.anomaly == True]\n",
        "anomalies.head()"
      ]
    },
    {
      "cell_type": "code",
      "execution_count": null,
      "metadata": {
        "colab": {
          "base_uri": "https://localhost:8080/",
          "height": 652
        },
        "colab_type": "code",
        "id": "b9pidLApzimf",
        "outputId": "f3428532-ac42-4936-e550-a6bc22383e9f"
      },
      "outputs": [],
      "source": [
        "plt.plot(\n",
        "  test[TIME_STEPS:].index, \n",
        "  scaler.inverse_transform(test[TIME_STEPS:].close), \n",
        "  label='close price'\n",
        ");\n",
        "\n",
        "sns.scatterplot(\n",
        "  anomalies.index,\n",
        "  scaler.inverse_transform(anomalies.close),\n",
        "  color=sns.color_palette()[3],\n",
        "  s=52,\n",
        "  label='anomaly'\n",
        ")\n",
        "plt.xticks(rotation=25)\n",
        "plt.legend();"
      ]
    }
  ],
  "metadata": {
    "accelerator": "GPU",
    "colab": {
      "collapsed_sections": [],
      "name": "11.3.anomaly-detection.ipynb",
      "provenance": []
    },
    "kernelspec": {
      "display_name": "Python 3",
      "name": "python3"
    },
    "language_info": {
      "codemirror_mode": {
        "name": "ipython",
        "version": 3
      },
      "file_extension": ".py",
      "mimetype": "text/x-python",
      "name": "python",
      "nbconvert_exporter": "python",
      "pygments_lexer": "ipython3",
      "version": "3.8.8"
    }
  },
  "nbformat": 4,
  "nbformat_minor": 0
}
